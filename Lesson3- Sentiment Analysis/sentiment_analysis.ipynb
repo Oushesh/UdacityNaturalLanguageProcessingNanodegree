{
 "cells": [
  {
   "cell_type": "markdown",
   "metadata": {},
   "source": [
    "# Sentiment Analysis\n",
    "\n",
    "_Artificial Intelligence Nanodegree Program | Natural Language Processing_\n",
    "\n",
    "---\n",
    "\n",
    "With the rise of online social media platforms like Twitter, Facebook and Reddit, and the proliferation of customer reviews on sites like Amazon and Yelp, we now have access, more than ever before, to massive text-based data sets! They can be analyzed in order to determine how large portions of the population feel about certain products, events, etc. This sort of analysis is called _sentiment analysis_. In this notebook you will build an end-to-end sentiment classification system from scratch.\n",
    "\n",
    "## Instructions\n",
    "\n",
    "Some template code has already been provided for you, and you will need to implement additional functionality to successfully complete this notebook. You will not need to modify the included code beyond what is requested. Sections that begin with '**TODO**' in the header indicate that you need to complete or implement some portion within them. Instructions will be provided for each section and the specifics of the implementation are marked in the code block with a `# TODO: ...` comment. Please be sure to read the instructions carefully!\n",
    "\n",
    "In addition to implementing code, there will be questions for you to answer which relate to the task and your implementation. Each section where you will answer a question is preceded by a '**Question:**' header. Carefully read each question and provide your answer below the '**Answer:**' header by editing the Markdown cell.\n",
    "\n",
    "> **Note**: Code and Markdown cells can be executed using the **Shift+Enter** keyboard shortcut. In addition, a cell can be edited by typically clicking it (double-click for Markdown cells) or by pressing **Enter** while it is highlighted."
   ]
  },
  {
   "cell_type": "markdown",
   "metadata": {},
   "source": [
    "## Step 1: Exploring the data!\n",
    "\n",
    "The dataset we are going to use is very popular among researchers in Natural Language Processing, usually referred to as the [IMDb dataset](http://ai.stanford.edu/~amaas/data/sentiment/). It consists of movie reviews from the website [imdb.com](http://www.imdb.com/), each labeled as either '**pos**itive', if the reviewer enjoyed the film, or '**neg**ative' otherwise.\n",
    "\n",
    "> Maas, Andrew L., et al. [Learning Word Vectors for Sentiment Analysis](http://ai.stanford.edu/~amaas/data/sentiment/). In _Proceedings of the 49th Annual Meeting of the Association for Computational Linguistics: Human Language Technologies_. Association for Computational Linguistics, 2011.\n",
    "\n",
    "We have provided the dataset for you. You can load it in by executing the Python cell below."
   ]
  },
  {
   "cell_type": "code",
   "execution_count": 2,
   "metadata": {},
   "outputs": [
    {
     "name": "stdout",
     "output_type": "stream",
     "text": [
      "IMDb reviews: train = 12500 pos / 12500 neg, test = 12500 pos / 12500 neg\n",
      "training Data is balanced\n",
      "testing Data is balanced\n"
     ]
    }
   ],
   "source": [
    "import os\n",
    "import glob\n",
    "\n",
    "def read_imdb_data(data_dir='data/imdb-reviews'):\n",
    "    \"\"\"Read IMDb movie reviews from given directory.\n",
    "    \n",
    "    Directory structure expected:\n",
    "    - data/\n",
    "        - train/\n",
    "            - pos/\n",
    "            - neg/\n",
    "        - test/\n",
    "            - pos/\n",
    "            - neg/\n",
    "    \n",
    "    \"\"\"\n",
    "\n",
    "    # Data, labels to be returned in nested dicts matching the dir. structure\n",
    "    data = {}\n",
    "    labels = {}\n",
    "\n",
    "    # Assume 2 sub-directories: train, test\n",
    "    for data_type in ['train', 'test']:\n",
    "        data[data_type] = {}\n",
    "        labels[data_type] = {}\n",
    "\n",
    "        # Assume 2 sub-directories for sentiment (label): pos, neg\n",
    "        for sentiment in ['pos', 'neg']:\n",
    "            data[data_type][sentiment] = []\n",
    "            labels[data_type][sentiment] = []\n",
    "            \n",
    "            # Fetch list of files for this sentiment\n",
    "            path = os.path.join(data_dir, data_type, sentiment, '*.txt')\n",
    "            files = glob.glob(path)\n",
    "            \n",
    "            # Read reviews data and assign labels\n",
    "            for f in files:\n",
    "                with open(f) as review:\n",
    "                    data[data_type][sentiment].append(review.read())\n",
    "                    labels[data_type][sentiment].append(sentiment)\n",
    "            \n",
    "            assert len(data[data_type][sentiment]) == len(labels[data_type][sentiment]), \\\n",
    "                    \"{}/{} data size does not match labels size\".format(data_type, sentiment)\n",
    "    \n",
    "    # Return data, labels as nested dicts\n",
    "    return data, labels\n",
    "\n",
    "\n",
    "data, labels = read_imdb_data()\n",
    "print(\"IMDb reviews: train = {} pos / {} neg, test = {} pos / {} neg\".format(\n",
    "        len(data['train']['pos']), len(data['train']['neg']),\n",
    "        len(data['test']['pos']), len(data['test']['neg'])))\n",
    "\n",
    "if len(data['train']['pos'])== len(data['train']['neg']):\n",
    "    print ('training Data is balanced')\n",
    "if len(data['test']['pos'])== len(data['test']['neg']):\n",
    "    print ('testing Data is balanced')"
   ]
  },
  {
   "cell_type": "markdown",
   "metadata": {},
   "source": [
    "Now that the data is loaded in, let's take a quick look at one of the positive reviews:"
   ]
  },
  {
   "cell_type": "code",
   "execution_count": 3,
   "metadata": {},
   "outputs": [
    {
     "name": "stdout",
     "output_type": "stream",
     "text": [
      "This movie was beautiful. It was full of memorable imagery, good acting, and touching subject matter. It would be very easy to write it off as being too sentimental, but that is the sentiments this type of a movie is trying to achieve. I was totally involved in the story's unfolding and presentation. There were a few cheesy shots, but such is to be expected in a religious propaganda film. The only complaint I can conjure is there wasn't a ton of details. However, this movie wasn't created to explain every element of Joseph Smith's life, ministry, triumphs, controversies, failures etc.; it was designed for a quick glimpse at a few highlights of one of the most amazing American and historical religious figures of all time.\n"
     ]
    }
   ],
   "source": [
    "print(data['train']['pos'][2])"
   ]
  },
  {
   "cell_type": "markdown",
   "metadata": {},
   "source": [
    "And one with a negative sentiment:"
   ]
  },
  {
   "cell_type": "code",
   "execution_count": 4,
   "metadata": {},
   "outputs": [
    {
     "name": "stdout",
     "output_type": "stream",
     "text": [
      "It's a good thing The Score came along for Marlon Brando as a farewell performance because I'd hate to think of him going out on Free Money. Not what his fans ought to remember him by.<br /><br />Brando in his last years is looking more like Orson Welles and Free Money is the kind of film Welles would have done looking for financing of his own work. Brando is the warden of a local prison which in America, when it's located in a small rural setting is usually the largest employer in the area. That gives one who is in charge a lot of clout. <br /><br />Unfortunately he has one weakness he indulges, his two twin bimbos otherwise known as daughters. Even when they get simultaneously pregnant by a pair of losers, Charlie Sheen and Thomas Haden Church, their hearts still belong to Daddy.<br /><br />Not to fear because Brando's willing to give them jobs in the prison where they work under conditions not much better than the convicts have. What to do, but commit a robbery of a train which goes through the locality every so often carrying used money to be burned by the Treasury. <br /><br />Although Free Money has some moments of humor, for most of the time it's quite beneath the talents of all those involved. Some of them would include Donald Sutherland as an equally corrupt judge and Mira Sorvino as his stepdaughter, but also straight arrow FBI agent.<br /><br />Of course these people and the rest of the cast got to work with someone who many rate as the greatest American actor of the last century. Were it not for Brando's presence and were it some 40 years earlier, Free Money would be playing the drive-in circuit in red state America where the populace could see how they're being satirized.<br /><br />Or a feeble attempt is made to satirize them.\n"
     ]
    }
   ],
   "source": [
    "print(data['train']['neg'][2])"
   ]
  },
  {
   "cell_type": "markdown",
   "metadata": {},
   "source": [
    "We can also make a wordcloud visualization of the reviews."
   ]
  },
  {
   "cell_type": "code",
   "execution_count": 5,
   "metadata": {},
   "outputs": [
    {
     "name": "stdout",
     "output_type": "stream",
     "text": [
      "Requirement already satisfied: wordcloud in /opt/conda/lib/python3.6/site-packages\n",
      "Requirement already satisfied: matplotlib in /opt/conda/lib/python3.6/site-packages (from wordcloud)\n",
      "Requirement already satisfied: pillow in /opt/conda/lib/python3.6/site-packages (from wordcloud)\n",
      "Requirement already satisfied: numpy>=1.6.1 in /opt/conda/lib/python3.6/site-packages (from wordcloud)\n",
      "Requirement already satisfied: six>=1.10 in /opt/conda/lib/python3.6/site-packages (from matplotlib->wordcloud)\n",
      "Requirement already satisfied: python-dateutil>=2.0 in /opt/conda/lib/python3.6/site-packages (from matplotlib->wordcloud)\n",
      "Requirement already satisfied: pytz in /opt/conda/lib/python3.6/site-packages (from matplotlib->wordcloud)\n",
      "Requirement already satisfied: cycler>=0.10 in /opt/conda/lib/python3.6/site-packages/cycler-0.10.0-py3.6.egg (from matplotlib->wordcloud)\n",
      "Requirement already satisfied: pyparsing!=2.0.4,!=2.1.2,!=2.1.6,>=2.0.1 in /opt/conda/lib/python3.6/site-packages (from matplotlib->wordcloud)\n",
      "Requirement already satisfied: olefile in /opt/conda/lib/python3.6/site-packages (from pillow->wordcloud)\n",
      "\u001b[33mYou are using pip version 9.0.1, however version 10.0.1 is available.\n",
      "You should consider upgrading via the 'pip install --upgrade pip' command.\u001b[0m\n"
     ]
    }
   ],
   "source": [
    "# Installing wordcloud\n",
    "#!pip install --upgrade pip\n",
    "!pip install wordcloud"
   ]
  },
  {
   "cell_type": "code",
   "execution_count": 6,
   "metadata": {},
   "outputs": [
    {
     "data": {
      "image/png": "[encoded data removed]",
      "text/plain": [
       "<Figure size 432x288 with 1 Axes>"
      ]
     },
     "metadata": {},
     "output_type": "display_data"
    }
   ],
   "source": [
    "import matplotlib.pyplot as plt\n",
    "%matplotlib inline\n",
    "\n",
    "from wordcloud import WordCloud, STOPWORDS\n",
    "\n",
    "sentiment = 'neg'\n",
    "\n",
    "# Combine all reviews for the desired sentiment\n",
    "combined_text = \" \".join([review for review in data['train'][sentiment]])\n",
    "\n",
    "# Initialize wordcloud object\n",
    "wc = WordCloud(background_color='white', max_words=50,\n",
    "        # update stopwords to include common words like film and movie\n",
    "        stopwords = STOPWORDS.update(['br','film','movie']))\n",
    "\n",
    "# Generate and plot wordcloud\n",
    "plt.imshow(wc.generate(combined_text))\n",
    "plt.axis('off')\n",
    "plt.show()"
   ]
  },
  {
   "cell_type": "markdown",
   "metadata": {},
   "source": [
    "Try changing the sentiment to `'neg'` and see if you can spot any obvious differences between the wordclouds."
   ]
  },
  {
   "cell_type": "markdown",
   "metadata": {},
   "source": [
    "### TODO: Form training and test sets\n",
    "\n",
    "Now that you've seen what the raw data looks like, combine the positive and negative documents to get one unified training set and one unified test set."
   ]
  },
  {
   "cell_type": "code",
   "execution_count": 7,
   "metadata": {},
   "outputs": [
    {
     "name": "stdout",
     "output_type": "stream",
     "text": [
      "IMDb reviews (combined): train = 25000, test = 25000\n"
     ]
    }
   ],
   "source": [
    "from sklearn.utils import shuffle\n",
    "\n",
    "def prepare_imdb_data(data):\n",
    "    \"\"\"Prepare training and test sets from IMDb movie reviews.\"\"\"\n",
    "    \n",
    "    # TODO: Combine positive and negative reviews and labels\n",
    "    data_train = data['train']['pos'] + data['train']['neg']\n",
    "    data_test = data['test']['pos'] + data['test']['neg']\n",
    "    labels_train = labels['train']['pos'] + labels['train']['neg']\n",
    "    labels_test = labels['test']['pos'] + labels['test']['neg']\n",
    "    \n",
    "    # TODO: Shuffle reviews and corresponding labels within training and test sets\n",
    "    data_train, labels_train = shuffle(data_train, labels_train)\n",
    "    data_test, labels_test = shuffle(data_test, labels_test)\n",
    "    \n",
    "    # Return a unified training data, test data, training labels, test labets\n",
    "    return data_train, data_test, labels_train, labels_test\n",
    "\n",
    "\n",
    "data_train, data_test, labels_train, labels_test = prepare_imdb_data(data)\n",
    "print(\"IMDb reviews (combined): train = {}, test = {}\".format(len(data_train), len(data_test)))"
   ]
  },
  {
   "cell_type": "markdown",
   "metadata": {},
   "source": [
    "## Step 2. Preprocessing\n",
    "\n",
    "As you might have noticed in the sample reviews, our raw data includes HTML. Therefore there are HTML tags that need to be removed. We also need to remove non-letter characters, normalize uppercase letters by converting them to lowercase, tokenize, remove stop words, and stem the remaining words in each document.\n",
    "\n",
    "### TODO: Convert each review to words\n",
    "\n",
    "As your next task, you should complete the function `review_to_words()` that performs all these steps. For your convenience, in the Python cell below we provide you with all the libraries that you may need in order to accomplish these preprocessing steps. Make sure you can import all of them! (If not, pip install from a terminal and run/import again.)"
   ]
  },
  {
   "cell_type": "code",
   "execution_count": 8,
   "metadata": {},
   "outputs": [
    {
     "name": "stdout",
     "output_type": "stream",
     "text": [
      "[nltk_data] Downloading package stopwords to /root/nltk_data...\n",
      "[nltk_data]   Unzipping corpora/stopwords.zip.\n"
     ]
    }
   ],
   "source": [
    "# BeautifulSoup to easily remove HTML tags\n",
    "from bs4 import BeautifulSoup \n",
    "\n",
    "# RegEx for removing non-letter characters\n",
    "import re\n",
    "\n",
    "# NLTK library for the remaining steps\n",
    "import nltk\n",
    "nltk.download(\"stopwords\")   # download list of stopwords (only once; need not run it again)\n",
    "from nltk.corpus import stopwords # import stopwords\n",
    "\n",
    "from nltk.stem.porter import *\n",
    "stemmer = PorterStemmer()"
   ]
  },
  {
   "cell_type": "code",
   "execution_count": 9,
   "metadata": {},
   "outputs": [
    {
     "data": {
      "text/plain": [
       "['test', 'test', 'would', 'make', 'great', 'movi', 'review']"
      ]
     },
     "execution_count": 9,
     "metadata": {},
     "output_type": "execute_result"
    }
   ],
   "source": [
    "def review_to_words(review):\n",
    "    \"\"\"Convert a raw review string into a sequence of words.\"\"\"\n",
    "    \n",
    "    # TODO: Remove HTML tags and non-letters,\n",
    "    #       convert to lowercase, tokenize,\n",
    "    #       remove stopwords and stem\n",
    "    text = BeautifulSoup(review, \"html5lib\").get_text()\n",
    "    text = re.sub(r\"[^a-zA-Z0-9]\", \" \", text.lower())\n",
    "    words = text.split()\n",
    "    words = [w for w in words if w not in stopwords.words(\"english\")]\n",
    "    words = [PorterStemmer().stem(w) for w in words]\n",
    "\n",
    "    # Return final list of words\n",
    "    return words\n",
    "\n",
    "\n",
    "review_to_words(\"\"\"This is just a <em>test</em>.<br/><br />\n",
    "But if it wasn't a test, it would make for a <b>Great</b> movie review!\"\"\")"
   ]
  },
  {
   "cell_type": "markdown",
   "metadata": {},
   "source": [
    "With the function `review_to_words()` fully implemeneted, we can apply it to all reviews in both training and test datasets. This may take a while, so let's build in a mechanism to write to a cache file and retrieve from it later."
   ]
  },
  {
   "cell_type": "code",
   "execution_count": 10,
   "metadata": {},
   "outputs": [
    {
     "name": "stdout",
     "output_type": "stream",
     "text": [
      "Read preprocessed data from cache file: preprocessed_data.pkl\n",
      "\n",
      "--- Raw review ---\n",
      "\"Look, I know this may suck right now, but pain is temporary, film is forever. Whatever you do right now is burned into celluloid for all time and for thousands of years to come.\"  Robert De Niro<br /><br />This was initially a film for Steven Spielberg, the director hiring several screenwriters to adjust the screenplay so that it more suited his themes. And so we have a dysfunctional family that is threatened by a deranged monster in the form of a recently released from prison Robert De Niro. Like \"Jurassic Park\", \"Poltergeist\" and \"War of the Worlds\", the dysfunctional family bands together to defeat the beast, the beast being the creation of the father, a lawyer who failed to defend De Niro during his trial. <br /><br />In typical Spielberg fashion, the father kills the monster that undermines the family and is then promptly absolved of his sins. Like Oscar Schindler, Robin Williams, Sam Niel, Tom Cruise and virtually every \"daddy\" figure in Spielberg land, the father reclaims his paternal duty in the kind of bittersweet coda that Spielberg so enjoys.<br /><br />But Spielberg eventually abandoned the picture and the project was instead turned over to Martin Scorsese, who at the time was seeking to try his hand at more commercial fare. The result is arguably the worst film in Scorsese's filmography, and, ironically, his most illuminating.<br /><br />An artist's failures or misfires are often very revealing, exposing the inner workings of their art. When the story doesn't work, the characters don't connect or the images don't sear, we find ourselves left with a kind of inner core. This  the remaining carcass- is what the director's cinema is about.<br /><br />Now \"Cape Fear\" is an impersonal film, so we won't find any thematic connections to the rest of Scorsese's filmography (\"You already sacrificed me!\" De Niro yells, but the films themes of Catholic redemption are cookie cutter). What the film does, though, is expose the kind of language that his filmography hinges on. Watch how Scorsese's camera desperately whips back and forth, how he zooms frantically onto doorknobs and windows in an attempt to force tension and how his characters are all loud and screaming for attention. But more importantly, watch how the film makes no spatial sense. A showdown on a boat at the end of the film takes place on an obvious sound-stage, a street parade is claustrophobic and takes place within no larger context and the family's house doesn't seem to exist anywhere in particular. There is simply no geographical sense to anything in the picture, Scorsese unable to film space or create any kind of spatial environment. <br /><br />The reason for this is that Scorsese's camera always has to be bound, or intimately tethered, to his central character. For the world around the character to make sense, his camera has to be focused on the character. Resnais can take you around a French Hotel, Welles and Hitchcock can dance you down a street and up a building, Cameron can give you a tour of the Titanic, Scott can recreate an entire future cityscape, Lucas can give you an alien desert planet, and most other directors can create a sense of space by textbook \"close up-mid shot-wide shot\" combinations, but Scorsese can't do this. There's no poetry, no sense of tangible space in his films. He's all about the character. You break that tether, you leave that boxing ring, that taxi cab, you look away from De Niro, and everything collapses. He simply cannot break away from this very documentarian style of shooting, which, in a way, is a prerequisite for action film-making.<br /><br />Scorsese tried to rectify this problem with \"Gangs of New York\", where the space and the sets become the central character, but even this self consciously spatial experiment gets sabotaged by the magnetism of Daniel Day Lewis, the actor drawing Scorsese's camera inexorably toward him like a moth to a bulb.<br /><br />5/10  Even as a generic B-movie, this is an ugly, vulgar looking film. Look at the matte paintings, the inept attempts at tension, the silly rotorscoped special effects and hokey fistfight showdown. Still, we have Robert De Niro to pick up the slack. De Niro, who gives his body over to Scorsese like a tattooed Christ, gives the film its only great scene. In an improvised romantic sequence with young a Juliette Lewis, he sticks his thumb into her mouth and kisses her. A kind of symbolic rape, the girl runs away, both aroused and repelled by this man's interest.<br /><br />But De Niro's performance, so deliciously over the top, simply can't be imitated by Scorsese. You'd need the operatic tone and the baroque visuals of someone like De Palma to make this work. But Scorsese? Nope.<br /><br />Worth one viewing.\n",
      "\n",
      "--- Preprocessed words ---\n",
      "['blond', 'blonder', 'pamela', 'anderson', 'denis', 'richard', 'almost', 'everi', 'scene', 'want', 'movi', 'utterli', 'unreason', 'feel', 'like', 'late', 'era', 'carri', 'seri', 'longer', 'blaze', 'trail', 'still', 'funni', 'think', 'behind', 'england', 'far', 'mark', 'pamela', 'denis', 'bubbl', 'charm', 'clearli', 'awar', 'masterpiec', 'make', 'although', 'give', 'lot', 'thing', 'told', 'like', 'support', 'cast', 'energet', 'even', 'particularli', 'good', 'see', 'coupl', 'duff', 'turn', 'movi', 'alreadi', 'practic', 'forgotten', 'make', 'much', 'differ', 'anyth', 'smile', 'realli', 'think', 'blond', 'blonder', 'ace', 'hope', 'hate']\n",
      "\n",
      "--- Label ---\n",
      "pos\n"
     ]
    }
   ],
   "source": [
    "import pickle\n",
    "\n",
    "cache_dir = os.path.join(\"cache\", \"sentiment_analysis\")  # where to store cache files\n",
    "os.makedirs(cache_dir, exist_ok=True)  # ensure cache directory exists\n",
    "\n",
    "def preprocess_data(data_train, data_test, labels_train, labels_test,\n",
    "                    cache_dir=cache_dir, cache_file=\"preprocessed_data.pkl\"):\n",
    "    \"\"\"Convert each review to words; read from cache if available.\"\"\"\n",
    "\n",
    "    # If cache_file is not None, try to read from it first\n",
    "    cache_data = None\n",
    "    if cache_file is not None:\n",
    "        try:\n",
    "            with open(os.path.join(cache_dir, cache_file), \"rb\") as f:\n",
    "                cache_data = pickle.load(f)\n",
    "            print(\"Read preprocessed data from cache file:\", cache_file)\n",
    "        except:\n",
    "            pass  # unable to read from cache, but that's okay\n",
    "    \n",
    "    # If cache is missing, then do the heavy lifting\n",
    "    if cache_data is None:\n",
    "        # Preprocess training and test data to obtain words for each review\n",
    "        words_train = list(map(review_to_words, data_train))\n",
    "        words_test = list(map(review_to_words, data_test))\n",
    "        \n",
    "        # Write to cache file for future runs\n",
    "        if cache_file is not None:\n",
    "            cache_data = dict(words_train=words_train, words_test=words_test,\n",
    "                              labels_train=labels_train, labels_test=labels_test)\n",
    "            with open(os.path.join(cache_dir, cache_file), \"wb\") as f:\n",
    "                pickle.dump(cache_data, f)\n",
    "            print(\"Wrote preprocessed data to cache file:\", cache_file)\n",
    "    else:\n",
    "        # Unpack data loaded from cache file\n",
    "        words_train, words_test, labels_train, labels_test = (cache_data['words_train'],\n",
    "                cache_data['words_test'], cache_data['labels_train'], cache_data['labels_test'])\n",
    "    \n",
    "    return words_train, words_test, labels_train, labels_test\n",
    "\n",
    "\n",
    "# Preprocess data\n",
    "words_train, words_test, labels_train, labels_test = preprocess_data(\n",
    "        data_train, data_test, labels_train, labels_test)\n",
    "\n",
    "# Take a look at a sample\n",
    "print(\"\\n--- Raw review ---\")\n",
    "print(data_train[1])\n",
    "print(\"\\n--- Preprocessed words ---\")\n",
    "print(words_train[1])\n",
    "print(\"\\n--- Label ---\")\n",
    "print(labels_train[1])"
   ]
  },
  {
   "cell_type": "code",
   "execution_count": 11,
   "metadata": {},
   "outputs": [
    {
     "name": "stdout",
     "output_type": "stream",
     "text": [
      "\n",
      "--- Raw review ---\n",
      "Cashing in on the \"demons-meets-clergy\" trend of the late '60s/early '70s that most prominently included the triptych of \"Rosemary's Baby,\" \"The Exorcist,\" and \"The Omen,\" \"The Sentinel\" is an addition that's just as good (albeit the most overlooked of the lot). In a way, it combines the best elements of those films and tosses in a dash of Polanski's \"The Tenant\" (which came out the same year) for good measure. A New York model unable to commit to her lawyer boyfriend takes up residence in a moss-coated townhouse that initially seems like the perfect locale; she meets a wily old coot of a neighbor (the brilliant Burgess Meredith), plus the other off-center tenants. Kept awake by loud noises above her apartment, she soon discovers that a mute priest and herself are the only residents in the otherwise deserted building. From there, director Michael Winner (\"Death Wish\") kicks this supernatural thriller into gear, and there is a devilish glee to the hallucinogenic tortures he inflicts on his heroine. Aided by a brilliant ensemble cast, a subtle storyline, and excellent makeup FX by Dick Smith (\"The Exorcist\"), \"The Sentinel\" is a genuinely creepy horror flick.\n",
      "\n",
      "--- Preprocessed words ---\n",
      "['blood', 'castl', 'aka', 'scream', 'demon', 'lover', 'altar', 'blood', 'ivanna', 'best', 'least', 'exploit', 'cinema', 'sound', 'titl', 'tradit', 'gothic', 'romanc', 'film', 'mean', 'big', 'creepi', 'castl', 'headstrong', 'young', 'woman', 'mysteri', 'older', 'man', 'hint', 'horror', 'supernatur', 'romanc', 'element', 'contemporari', 'sens', 'genr', 'term', 'also', 'mean', 'deliber', 'pace', 'film', 'work', 'best', 'horror', 'maven', 'big', 'fan', 'understat', 'love', 'film', 'like', 'robert', 'wise', 'haunt', '1963', 'also', 'tast', 'late', '1960', 'earli', '1970', 'spanish', 'italian', 'horror', 'may', 'love', 'blood', 'castl', 'well', 'baron', 'jano', 'dalmar', 'carlo', 'quiney', 'live', 'larg', 'castl', 'outskirt', 'tradit', 'unspecifi', 'european', 'villag', 'local', 'fear', 'legend', 'whenev', 'bed', 'woman', 'soon', 'end', 'dead', 'consensu', 'set', 'feroci', 'dog', 'quit', 'problem', 'baron', 'healthi', 'appetit', 'women', 'begin', 'film', 'yet', 'anoth', 'woman', 'turn', 'dead', 'mutil', 'meanwhil', 'dr', 'ivanna', 'rakowski', 'erna', 'sch', 'rer', 'appear', 'center', 'villag', 'ask', 'taken', 'baron', 'dalmar', 'castl', 'towner', 'hire', 'baron', 'expertis', 'chemistri', 'cours', 'one', 'want', 'go', 'near', 'castl', 'final', 'ivanna', 'find', 'shadi', 'individu', 'becom', 'even', 'shadier', 'take', 'odd', 'woman', 'live', 'castl', 'olga', 'cristiana', 'galloni', 'reject', 'ivanna', 'say', 'sinc', 'woman', 'baron', 'dalmar', 'vacil', 'whether', 'stay', 'end', 'stay', 'somewhat', 'reluctantli', 'baron', 'hire', 'tri', 'revers', 'effect', 'sever', 'burn', 'baron', 'brother', 'igor', 'suffer', 'unfortun', 'baron', 'brother', 'appear', 'lump', 'decompos', 'flesh', 'vat', 'bizarr', 'blackish', 'liquid', 'furthermor', 'ivanna', 'bizarr', 'hallucinatori', 'dream', 'go', 'castl', 'baron', 'respons', 'crime', 'insan', 'want', 'like', 'blood', 'castl', 'mention', 'film', 'deliber', 'pace', 'underst', 'go', 'either', 'way', 'materi', 'like', 'care', 'haunt', 'ye', 'small', 'minor', 'big', 'fan', '1960', '1970', 'european', 'horror', 'one', 'favorit', 'director', 'mario', 'bava', 'also', 'love', 'dario', 'argento', 'work', 'period', 'occasion', 'blood', 'castl', 'move', 'bit', 'slow', 'time', 'larg', 'chunk', 'amount', 'scene', 'excit', 'talk', 'altern', 'scene', 'ivanna', 'slowli', 'walk', 'corridor', 'castl', 'atmospher', 'film', 'decent', 'director', 'jo', 'lui', 'merino', 'manag', 'passabl', 'set', 'locat', 'shot', 'fairli', 'well', 'emanuel', 'di', 'cola', 'howev', 'blood', 'castl', 'feel', 'rel', 'low', 'budget', 'roger', 'corman', 'produc', 'film', 'usual', 'mean', 'low', 'budget', 'though', 'often', 'surprisingli', 'high', 'qualiti', 'quicki', 'hint', 'lush', 'bava', 'color', 'complex', 'set', 'decor', 'everyth', 'much', 'minimalist', 'cours', 'help', 'retromedia', 'print', 'watch', 'look', 'like', '30', 'year', 'old', 'photograph', 'left', 'sun', 'long', 'appear', 'wash', 'compromis', 'contrast', 'still', 'merino', 'di', 'cola', 'occasion', 'set', 'fantast', 'visual', 'exampl', 'scene', 'ivanna', 'walk', 'darken', 'hallway', 'shot', 'exagger', 'angl', 'import', 'plot', 'element', 'reveal', 'shadow', 'wall', 'also', 'coupl', 'ingmar', 'bergmanesqu', 'shot', 'actor', 'exquisit', 'block', 'impli', 'complex', 'relationship', 'besid', 'visual', 'attract', 'pull', 'eye', 'deep', 'frame', 'perform', 'fairli', 'good', 'women', 'especi', 'sch', 'rer', 'attract', 'merino', 'exploit', 'fact', 'incorpor', 'decent', 'amount', 'nuditi', 'sch', 'rer', 'went', 'number', 'film', 'much', 'soft', 'corn', 'porn', 'genr', 'english', 'titl', 'sex', 'life', 'woman', 'prison', '1974', 'nake', 'lust', '1974', 'strip', 'nude', 'killer', '1975', 'erot', 'exploit', 'sexi', 'seduc', '1977', 'blood', 'castl', 'much', 'tamer', 'addit', 'nuditi', 'still', 'mild', 'scene', 'suggest', 'rape', 'bondag', 'cours', 'scene', 'mix', 'sex', 'death', 'primari', 'attract', 'though', 'probabl', 'stori', 'much', 'slow', 'burn', 'romanc', 'anyth', 'els', 'horror', 'element', 'mysteri', 'element', 'somewhat', 'unexpect', 'twist', 'near', 'end', 'bonus', 'end', 'blood', 'castl', 'love', 'stori', 'coupl', 'overcom', 'variou', 'difficulti', 'antagon', 'often', 'physic', 'threat', 'harm', 'togeth']\n",
      "\n",
      "--- Label ---\n",
      "pos\n"
     ]
    }
   ],
   "source": [
    "print(\"\\n--- Raw review ---\")\n",
    "print(data_train[2])\n",
    "print(\"\\n--- Preprocessed words ---\")\n",
    "print(words_train[2])\n",
    "print(\"\\n--- Label ---\")\n",
    "print(labels_train[2])"
   ]
  },
  {
   "cell_type": "markdown",
   "metadata": {},
   "source": [
    "## Step 3: Extracting Bag-of-Words features\n",
    "\n",
    "Now that each document has been preprocessed, we can transform each into a Bag-of-Words feature representation. Note that we need to create this transformation based on the training data alone, as we are not allowed to peek at the testing data at all!\n",
    "\n",
    "The dictionary or _vocabulary_ $V$ (set of words shared by documents in the training set) used here will be the one on which we train our supervised learning algorithm. Any future test data must be transformed in the same way for us to be able to apply the learned model for prediction. Hence, it is important to store the transformation / vocabulary as well.\n",
    "\n",
    "> **Note**: The set of words in the training set may not be exactly the same as the test set. What do you do if you encounter a word during testing that you haven't seen before? Unfortunately, we'll have to ignore it, or replace it with a special `<UNK>` token.\n",
    "\n",
    "### TODO: Compute Bag-of-Words features\n",
    "\n",
    "Implement the `extract_BoW_features()` function, apply it to both training and test datasets, and store the results in `features_train` and `features_test` NumPy arrays, respectively. Choose a reasonable vocabulary size, say $|V| = 5000$, and keep only the top $|V|$ occuring words and discard the rest. This number will also serve as the number of columns in the BoW matrices.\n",
    "\n",
    "> **Hint**: You may find it useful to take advantage of `CountVectorizer` from scikit-learn. Also make sure to pickle your Bag-of-Words transformation so that you can use it in future."
   ]
  },
  {
   "cell_type": "code",
   "execution_count": 12,
   "metadata": {},
   "outputs": [
    {
     "name": "stdout",
     "output_type": "stream",
     "text": [
      "Read features from cache file: bow_features.pkl\n",
      "Vocabulary: 5000 words\n",
      "Sample words: ['breath', 'zone', 'karloff', 'lousi', 'mitch', 'innov', 'station', 'cloud']\n",
      "\n",
      "--- Preprocessed words ---\n",
      "['kid', '50', '60', 'anyth', 'connect', 'disney', 'definit', 'great', 'happen', 'abl', 'get', 'actor', 'actress', 'want', 'best', 'time', 'somehow', 'disney', 'manag', 'screw', 'thing', 'spite', 'abund', 'resourc', 'disney', 'afford', 'best', 'writer', 'best', 'produc', 'director', 'still', 'screw', 'thing', 'movi', 'crap', 'sad', 'thing', 'suspect', 'disney', 'arrog', 'even', 'know', 'movi', 'good', 'bad', 'due', 'talent', 'actor', 'even', 'give', '3', '10']\n",
      "\n",
      "--- Bag-of-Words features ---\n",
      "[0 0 0 ... 0 0 0]\n",
      "\n",
      "--- Label ---\n",
      "neg\n"
     ]
    }
   ],
   "source": [
    "import numpy as np\n",
    "from sklearn.feature_extraction.text import CountVectorizer\n",
    "from sklearn.externals import joblib\n",
    "# joblib is an enhanced version of pickle that is more efficient for storing NumPy arrays\n",
    "\n",
    "def extract_BoW_features(words_train, words_test, vocabulary_size=5000,\n",
    "                         cache_dir=cache_dir, cache_file=\"bow_features.pkl\"): #BoW Features loaded from presaved model as \n",
    "                            #pickle file. Created like the previous .ipynb notebook for Topic Modelling\n",
    "    \"\"\"Extract Bag-of-Words for a given set of documents, already preprocessed into words.\"\"\"\n",
    "    \n",
    "    # If cache_file is not None, try to read from it first\n",
    "    cache_data = None\n",
    "    if cache_file is not None:\n",
    "        try:\n",
    "            with open(os.path.join(cache_dir, cache_file), \"rb\") as f:\n",
    "                cache_data = joblib.load(f)\n",
    "            print(\"Read features from cache file:\", cache_file)\n",
    "        except:\n",
    "            pass  # unable to read from cache, but that's okay\n",
    "    \n",
    "    # If cache is missing, then do the heavy lifting\n",
    "    if cache_data is None:\n",
    "        # TODO: Fit a vectorizer to training documents and use it to transform them\n",
    "        # NOTE: Training documents have already been preprocessed and tokenized into words;\n",
    "        #       pass in dummy functions to skip those steps, e.g. preprocessor=lambda x: x\n",
    "        vectorizer = CountVectorizer(max_features=vocabulary_size,\n",
    "                preprocessor=lambda x: x, tokenizer=lambda x: x)\n",
    "        features_train = vectorizer.fit_transform(words_train).toarray()\n",
    "\n",
    "        # TODO: Apply the same vectorizer to transform the test documents (ignore unknown words)\n",
    "        features_test = vectorizer.transform(words_test).toarray() #convert the features using .toarray() for a compact representation\n",
    "          \n",
    "        # Write to cache file for future runs (store vocabulary as well)\n",
    "        if cache_file is not None:\n",
    "            vocabulary = vectorizer.vocabulary_\n",
    "            cache_data = dict(features_train=features_train, features_test=features_test,\n",
    "                             vocabulary=vocabulary)\n",
    "            with open(os.path.join(cache_dir, cache_file), \"wb\") as f:\n",
    "                joblib.dump(cache_data, f)\n",
    "            print(\"Wrote features to cache file:\", cache_file)\n",
    "    else:\n",
    "        # Unpack data loaded from cache file\n",
    "        features_train, features_test, vocabulary = (cache_data['features_train'],\n",
    "                cache_data['features_test'], cache_data['vocabulary'])\n",
    "    \n",
    "    # Return both the extracted features as well as the vocabulary\n",
    "    return features_train, features_test, vocabulary\n",
    "\n",
    "\n",
    "# Extract Bag of Words features for both training and test datasets\n",
    "features_train, features_test, vocabulary = extract_BoW_features(words_train, words_test)\n",
    "\n",
    "# Inspect the vocabulary that was computed\n",
    "print(\"Vocabulary: {} words\".format(len(vocabulary)))\n",
    "\n",
    "import random\n",
    "print(\"Sample words: {}\".format(random.sample(list(vocabulary.keys()), 8)))\n",
    "\n",
    "# Sample\n",
    "print(\"\\n--- Preprocessed words ---\")\n",
    "print(words_train[5])\n",
    "print(\"\\n--- Bag-of-Words features ---\")\n",
    "print(features_train[5])\n",
    "print(\"\\n--- Label ---\")\n",
    "print(labels_train[5])"
   ]
  },
  {
   "cell_type": "code",
   "execution_count": 13,
   "metadata": {},
   "outputs": [
    {
     "data": {
      "text/plain": [
       "(array([[0, 0, 0, ..., 0, 0, 0],\n",
       "        [0, 0, 0, ..., 0, 0, 0],\n",
       "        [0, 0, 0, ..., 0, 0, 0],\n",
       "        ...,\n",
       "        [0, 0, 0, ..., 0, 0, 0],\n",
       "        [0, 0, 0, ..., 0, 0, 0],\n",
       "        [0, 0, 0, ..., 0, 0, 0]]), array([[0, 0, 0, ..., 0, 0, 0],\n",
       "        [0, 0, 0, ..., 0, 0, 0],\n",
       "        [0, 0, 0, ..., 0, 0, 0],\n",
       "        ...,\n",
       "        [0, 0, 0, ..., 0, 0, 0],\n",
       "        [0, 0, 0, ..., 0, 0, 0],\n",
       "        [0, 0, 0, ..., 0, 0, 0]]))"
      ]
     },
     "execution_count": 13,
     "metadata": {},
     "output_type": "execute_result"
    }
   ],
   "source": [
    "features_train, features_test"
   ]
  },
  {
   "cell_type": "markdown",
   "metadata": {},
   "source": [
    "Let's try to visualize the Bag-of-Words feature vector for one of our training documents."
   ]
  },
  {
   "cell_type": "code",
   "execution_count": 14,
   "metadata": {},
   "outputs": [
    {
     "data": {
      "image/png": "[encoded data removed]",
      "text/plain": [
       "<Figure size 432x288 with 1 Axes>"
      ]
     },
     "metadata": {},
     "output_type": "display_data"
    }
   ],
   "source": [
    "# Plot the BoW feature vector for a training document\n",
    "\n",
    "#BoW contains the Word IDs and frequency of word appearance as a tupe of (1,2)\n",
    "plt.plot(features_train[5,:])\n",
    "plt.xlabel('Word')\n",
    "plt.ylabel('Count')\n",
    "plt.show()"
   ]
  },
  {
   "cell_type": "code",
   "execution_count": 15,
   "metadata": {},
   "outputs": [
    {
     "data": {
      "text/plain": [
       "(25000, 5000)"
      ]
     },
     "execution_count": 15,
     "metadata": {},
     "output_type": "execute_result"
    }
   ],
   "source": [
    "features_train.shape"
   ]
  },
  {
   "cell_type": "markdown",
   "metadata": {},
   "source": [
    "#### Question: Reflecting on Bag-of-Words feature representation\n",
    "\n",
    "What is the average sparsity level of BoW vectors in our training set? In other words, on average what percentage of entries in a BoW feature vector are zero?\n",
    "\n",
    "#### Answer:\n",
    "\n",
    "...\n",
    "\n",
    "### Zipf's law\n",
    "\n",
    "[Zipf's law](https://en.wikipedia.org/wiki/Zipf%27s_law), named after the famous American linguist George Zipf, is an empirical law stating that given a large collection of documents, the frequency of any word is inversely proportional to its rank in the frequency table. So the most frequent word will occur about twice as often as the second most frequent word, three times as often as the third most frequent word, and so on. In the figure below we plot number of appearances of each word in our training set against its rank."
   ]
  },
  {
   "cell_type": "code",
   "execution_count": 16,
   "metadata": {},
   "outputs": [
    {
     "data": {
      "image/png": "[encoded data removed]",
      "text/plain": [
       "<Figure size 432x288 with 1 Axes>"
      ]
     },
     "metadata": {},
     "output_type": "display_data"
    }
   ],
   "source": [
    "# Find number of occurrences for each word in the training set\n",
    "word_freq = features_train.sum(axis=0)\n",
    "\n",
    "# Sort it in descending order\n",
    "sorted_word_freq = np.sort(word_freq)[::-1]\n",
    "\n",
    "# Plot \n",
    "plt.plot(sorted_word_freq)\n",
    "plt.gca().set_xscale('log')\n",
    "plt.gca().set_yscale('log')\n",
    "plt.xlabel('Rank')\n",
    "plt.ylabel('Number of occurrences')\n",
    "plt.show()"
   ]
  },
  {
   "cell_type": "markdown",
   "metadata": {},
   "source": [
    "#### Question: Zipf's law\n",
    "\n",
    "What is the total number of occurrences of the most frequent word? What is the the total number of occurrences of the second most frequent word? Do your numbers follow  Zipf's law? If not, why?\n",
    "\n",
    "#### Answer:\n",
    "\n",
    "...\n",
    "\n",
    "### TODO: Normalize feature vectors\n",
    "\n",
    "Bag-of-Words features are intuitive to understand as they are simply word counts. But counts can vary a lot, and potentially throw off learning algorithms later in the pipeline. So, before we proceed further, let's normalize the BoW feature vectors to have unit length.\n",
    "\n",
    "This makes sure that each document's representation retains the unique mixture of feature components, but prevents documents with large word counts from dominating those with fewer words."
   ]
  },
  {
   "cell_type": "code",
   "execution_count": 17,
   "metadata": {},
   "outputs": [
    {
     "data": {
      "text/plain": [
       "(25000, 5000)"
      ]
     },
     "execution_count": 17,
     "metadata": {},
     "output_type": "execute_result"
    }
   ],
   "source": [
    "features_train.shape #25000 sentences with embedding dimension of 5000"
   ]
  },
  {
   "cell_type": "code",
   "execution_count": 18,
   "metadata": {},
   "outputs": [],
   "source": [
    "import sklearn.preprocessing as pr\n",
    "\n",
    "# TODO: Normalize BoW features in training and test set\n",
    "features_train = pr.normalize(features_train, axis=1)\n",
    "features_test = pr.normalize(features_test, axis=1)"
   ]
  },
  {
   "cell_type": "markdown",
   "metadata": {},
   "source": [
    "## Step 4: Classification using BoW features\n",
    "\n",
    "Now that the data has all been properly transformed, we can feed it into a classifier. To get a baseline model, we train a Naive Bayes classifier from scikit-learn (specifically, [`GaussianNB`](http://scikit-learn.org/stable/modules/generated/sklearn.naive_bayes.GaussianNB.html)), and evaluate its accuracy on the test set."
   ]
  },
  {
   "cell_type": "code",
   "execution_count": 19,
   "metadata": {},
   "outputs": [
    {
     "name": "stdout",
     "output_type": "stream",
     "text": [
      "[GaussianNB] Accuracy: train = 0.8198, test = 0.72768\n"
     ]
    }
   ],
   "source": [
    "from sklearn.naive_bayes import GaussianNB\n",
    "\n",
    "# TODO: Train a Guassian Naive Bayes classifier Gaussian NB\n",
    "clf1 = GaussianNB()\n",
    "clf1.fit(features_train, labels_train)\n",
    "\n",
    "# Calculate the mean accuracy score on training and test sets\n",
    "print(\"[{}] Accuracy: train = {}, test = {}\".format(\n",
    "        clf1.__class__.__name__,\n",
    "        clf1.score(features_train, labels_train),\n",
    "        clf1.score(features_test, labels_test)))"
   ]
  },
  {
   "cell_type": "markdown",
   "metadata": {},
   "source": [
    "Tree-based algorithms often work quite well on Bag-of-Words as their highly discontinuous and sparse nature is nicely matched by the structure of trees. As your next task, you will try to improve on the Naive Bayes classifier's performance by using scikit-learn's Gradient-Boosted Decision Tree classifer.\n",
    "\n",
    "### TODO: Gradient-Boosted Decision Tree classifier\n",
    "\n",
    "Use [`GradientBoostingClassifier`](http://scikit-learn.org/stable/modules/generated/sklearn.ensemble.GradientBoostingClassifier.html) from scikit-learn to classify the BoW data. This model has a number of parameters. We use default parameters for some of them and pre-set the rest for you, except one: `n_estimators`. Find a proper value for this hyperparameter, use it to classify the data, and report how much improvement you get over Naive Bayes in terms of accuracy.\n",
    "\n",
    "> **Tip**: Use a model selection technique such as cross-validation, grid-search, or an information criterion method, to find an optimal value for the hyperparameter."
   ]
  },
  {
   "cell_type": "code",
   "execution_count": 20,
   "metadata": {},
   "outputs": [
    {
     "name": "stdout",
     "output_type": "stream",
     "text": [
      "[GradientBoostingClassifier] Accuracy: train = 0.79472, test = 0.79004\n"
     ]
    }
   ],
   "source": [
    "from sklearn.ensemble import GradientBoostingClassifier\n",
    "\n",
    "n_estimators = 32\n",
    "\n",
    "def classify_gboost(n_estimators,X_train, X_test, y_train, y_test):        \n",
    "    # Initialize classifier\n",
    "    clf = GradientBoostingClassifier(n_estimators=n_estimators, learning_rate=1.0, max_depth=1, random_state=0)\n",
    "\n",
    "    # TODO: Classify the data using GradientBoostingClassifier\n",
    "    clf.fit(X_train, y_train)\n",
    "\n",
    "    \n",
    "    # TODO: Print final training & test accuracy\n",
    "    print(\"[{}] Accuracy: train = {}, test = {}\".format(\n",
    "            clf.__class__.__name__,\n",
    "            clf.score(X_train, y_train),\n",
    "            clf.score(X_test, y_test)))\n",
    "    \n",
    "    # Return best classifier model\n",
    "    return clf\n",
    "\n",
    "clf2 = classify_gboost(n_estimators,features_train, features_test, labels_train, labels_test)"
   ]
  },
  {
   "cell_type": "code",
   "execution_count": 21,
   "metadata": {},
   "outputs": [
    {
     "name": "stdout",
     "output_type": "stream",
     "text": [
      "[1, 2, 3, 4, 5, 6, 7, 8, 9, 10, 11, 12, 13, 14, 15, 16, 17, 18, 19, 20, 21, 22, 23, 24, 25, 26, 27, 28, 29, 30, 31, 32, 33, 34, 35, 36, 37, 38, 39]\n",
      "29 randomly chosen estimator number\n"
     ]
    }
   ],
   "source": [
    "#Random n_estimators search between 2 range.\n",
    "import random\n",
    "\n",
    "#initalisae estimators\n",
    "estimators=[n_estimators for n_estimators in range(1,40)]\n",
    "print (estimators)\n",
    "\n",
    "#randomly choose the n_estimaors\n",
    "current_estimator = random.choice(estimators)\n",
    "print (current_estimator, 'randomly chosen estimator number')\n",
    "\n",
    "#keep track of clf.score values and choice of estimator\n",
    "history_estimator =[]\n",
    "history_estimator.append(current_estimator)"
   ]
  },
  {
   "cell_type": "code",
   "execution_count": 22,
   "metadata": {},
   "outputs": [
    {
     "name": "stdout",
     "output_type": "stream",
     "text": [
      "number of estimator used: 1\n",
      "[GradientBoostingClassifier] Accuracy: train = 0.6146, test = 0.61384\n",
      "number of estimator used: 2\n",
      "[GradientBoostingClassifier] Accuracy: train = 0.65372, test = 0.65368\n",
      "number of estimator used: 3\n",
      "[GradientBoostingClassifier] Accuracy: train = 0.68332, test = 0.68408\n",
      "number of estimator used: 4\n",
      "[GradientBoostingClassifier] Accuracy: train = 0.68332, test = 0.68408\n",
      "number of estimator used: 5\n",
      "[GradientBoostingClassifier] Accuracy: train = 0.685, test = 0.68604\n",
      "number of estimator used: 6\n",
      "[GradientBoostingClassifier] Accuracy: train = 0.70388, test = 0.70476\n",
      "number of estimator used: 7\n",
      "[GradientBoostingClassifier] Accuracy: train = 0.717, test = 0.72012\n",
      "number of estimator used: 8\n",
      "[GradientBoostingClassifier] Accuracy: train = 0.71848, test = 0.72104\n",
      "number of estimator used: 9\n",
      "[GradientBoostingClassifier] Accuracy: train = 0.73088, test = 0.7308\n",
      "number of estimator used: 10\n",
      "[GradientBoostingClassifier] Accuracy: train = 0.73164, test = 0.73364\n",
      "number of estimator used: 11\n",
      "[GradientBoostingClassifier] Accuracy: train = 0.73408, test = 0.73476\n",
      "number of estimator used: 12\n",
      "[GradientBoostingClassifier] Accuracy: train = 0.7416, test = 0.74264\n",
      "number of estimator used: 13\n",
      "[GradientBoostingClassifier] Accuracy: train = 0.74996, test = 0.7504\n",
      "number of estimator used: 14\n",
      "[GradientBoostingClassifier] Accuracy: train = 0.75704, test = 0.75616\n",
      "number of estimator used: 15\n",
      "[GradientBoostingClassifier] Accuracy: train = 0.75796, test = 0.758\n",
      "number of estimator used: 16\n",
      "[GradientBoostingClassifier] Accuracy: train = 0.76064, test = 0.7598\n",
      "number of estimator used: 17\n",
      "[GradientBoostingClassifier] Accuracy: train = 0.76476, test = 0.76348\n",
      "number of estimator used: 18\n",
      "[GradientBoostingClassifier] Accuracy: train = 0.76888, test = 0.76736\n",
      "number of estimator used: 19\n",
      "[GradientBoostingClassifier] Accuracy: train = 0.77304, test = 0.76908\n",
      "number of estimator used: 20\n",
      "[GradientBoostingClassifier] Accuracy: train = 0.7764, test = 0.77176\n",
      "number of estimator used: 21\n",
      "[GradientBoostingClassifier] Accuracy: train = 0.778, test = 0.77424\n",
      "number of estimator used: 22\n",
      "[GradientBoostingClassifier] Accuracy: train = 0.7804, test = 0.77528\n",
      "number of estimator used: 23\n",
      "[GradientBoostingClassifier] Accuracy: train = 0.78148, test = 0.77716\n",
      "number of estimator used: 24\n",
      "[GradientBoostingClassifier] Accuracy: train = 0.78256, test = 0.7796\n",
      "number of estimator used: 25\n",
      "[GradientBoostingClassifier] Accuracy: train = 0.78644, test = 0.78184\n",
      "number of estimator used: 26\n",
      "[GradientBoostingClassifier] Accuracy: train = 0.78832, test = 0.7824\n",
      "number of estimator used: 27\n",
      "[GradientBoostingClassifier] Accuracy: train = 0.78984, test = 0.78396\n",
      "number of estimator used: 28\n",
      "[GradientBoostingClassifier] Accuracy: train = 0.7914, test = 0.78544\n",
      "number of estimator used: 29\n",
      "[GradientBoostingClassifier] Accuracy: train = 0.79288, test = 0.78724\n",
      "number of estimator used: 30\n",
      "[GradientBoostingClassifier] Accuracy: train = 0.79432, test = 0.78896\n",
      "number of estimator used: 31\n",
      "[GradientBoostingClassifier] Accuracy: train = 0.7952, test = 0.7898\n",
      "number of estimator used: 32\n",
      "[GradientBoostingClassifier] Accuracy: train = 0.79472, test = 0.79004\n",
      "number of estimator used: 33\n",
      "[GradientBoostingClassifier] Accuracy: train = 0.795, test = 0.79104\n",
      "number of estimator used: 34\n",
      "[GradientBoostingClassifier] Accuracy: train = 0.7968, test = 0.7928\n",
      "number of estimator used: 35\n",
      "[GradientBoostingClassifier] Accuracy: train = 0.7988, test = 0.79372\n",
      "number of estimator used: 36\n",
      "[GradientBoostingClassifier] Accuracy: train = 0.8012, test = 0.79468\n",
      "number of estimator used: 37\n",
      "[GradientBoostingClassifier] Accuracy: train = 0.80224, test = 0.79584\n",
      "number of estimator used: 38\n",
      "[GradientBoostingClassifier] Accuracy: train = 0.80376, test = 0.79616\n",
      "number of estimator used: 39\n",
      "[GradientBoostingClassifier] Accuracy: train = 0.80488, test = 0.79848\n"
     ]
    }
   ],
   "source": [
    "for estimator in estimators:\n",
    "    print ('number of estimator used:',estimator)\n",
    "    classify_gboost(estimator,features_train, features_test, labels_train, labels_test)   "
   ]
  },
  {
   "cell_type": "markdown",
   "metadata": {},
   "source": [
    "### TODO: Adverserial testing\n",
    "\n",
    "Write a short movie review to trick your machine learning model! That is, a movie review with a clear positive or negative sentiment that your model will classify incorrectly.\n",
    "\n",
    "> **Hint**: You might want to take advantage of the biggest weakness of the Bag-of-Words scheme!"
   ]
  },
  {
   "cell_type": "code",
   "execution_count": 23,
   "metadata": {},
   "outputs": [
    {
     "name": "stdout",
     "output_type": "stream",
     "text": [
      "--- My review ---\n",
      "I thought it would be just like all the other boring sequels that are coming out everyday. But had I not gone, I would've missed out on a treat. Not only was it not boring, it kept me at the edge of my seat till the end.\n",
      "\n",
      "--- Preprocessed words ---\n",
      "['thought', 'would', 'like', 'bore', 'sequel', 'come', 'everyday', 'gone', 'would', 'miss', 'treat', 'bore', 'kept', 'edg', 'seat', 'till', 'end']\n",
      "\n",
      "True sentiment: pos, predicted sentiment: neg\n"
     ]
    }
   ],
   "source": [
    "# TODO: Write a sample review and set its true sentiment\n",
    "my_review = \"I thought it would be just like all the other boring sequels that are coming out everyday. But had I not gone, I would've missed out on a treat. Not only was it not boring, it kept me at the edge of my seat till the end.\"\n",
    "true_sentiment = 'pos'  # sentiment must be 'pos' or 'neg'\n",
    "\n",
    "# TODO: Apply the same preprocessing and vectorizing steps as you did for your training data\n",
    "my_words = review_to_words(my_review)\n",
    "vectorizer = CountVectorizer(vocabulary=vocabulary,\n",
    "                             preprocessor=lambda x: x, tokenizer=lambda x: x)  # already preprocessed\n",
    "my_bow_features = vectorizer.transform([my_words]).toarray()  # pass an array of 1 element\n",
    "\n",
    "# TODO: Then call your classifier to label it\n",
    "predicted_sentiment = clf2.predict(my_bow_features)[0]\n",
    "print(\"--- My review ---\")\n",
    "print(my_review)\n",
    "print(\"\\n--- Preprocessed words ---\")\n",
    "print(my_words)\n",
    "print(\"\\nTrue sentiment: {}, predicted sentiment: {}\".format(true_sentiment, predicted_sentiment))"
   ]
  },
  {
   "cell_type": "markdown",
   "metadata": {},
   "source": [
    "## Extensions\n",
    "\n",
    "There are several ways in which you can build upon this notebook. Each comes with its set of challenges, but can be a rewarding experience.\n",
    "\n",
    "- The first thing is to try and improve the accuracy of your model by experimenting with different architectures, layers and parameters. How good can you get without taking prohibitively long to train? How do you prevent overfitting?\n",
    "\n",
    "- Then, you may want to deploy your model as a mobile app or web service. What do you need to do in order to package your model for such deployment? How would you accept a new review, convert it into a form suitable for your model, and perform the actual prediction? (Note that the same environment you used during training may not be available.)\n",
    "\n",
    "- One simplification we made in this notebook is to limit the task to binary classification. The dataset actually includes a more fine-grained review rating that is indicated in each review's filename (which is of the form `<[id]_[rating].txt>` where `[id]` is a unique identifier and `[rating]` is on a scale of 1-10; note that neutral reviews > 4 or < 7 have been excluded). How would you modify the notebook to perform regression on the review ratings? In what situations is regression more useful than classification, and vice-versa?\n",
    "\n",
    "Whatever direction you take, make sure to share your results and learnings with your peers, through blogs, discussions and participating in online competitions. This is also a great way to become more visible to potential employers!"
   ]
  },
  {
   "cell_type": "code",
   "execution_count": null,
   "metadata": {
    "collapsed": true
   },
   "outputs": [],
   "source": []
  }
 ],
 "metadata": {
  "kernelspec": {
   "display_name": "Python 3",
   "language": "python",
   "name": "python3"
  },
  "language_info": {
   "codemirror_mode": {
    "name": "ipython",
    "version": 3
   },
   "file_extension": ".py",
   "mimetype": "text/x-python",
   "name": "python",
   "nbconvert_exporter": "python",
   "pygments_lexer": "ipython3",
   "version": "3.6.3"
  }
 },
 "nbformat": 4,
 "nbformat_minor": 2
}
